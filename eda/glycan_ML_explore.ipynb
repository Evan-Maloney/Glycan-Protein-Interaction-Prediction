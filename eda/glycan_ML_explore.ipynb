{
 "cells": [
  {
   "cell_type": "code",
   "execution_count": 1,
   "metadata": {},
   "outputs": [],
   "source": [
    "import pandas as pd"
   ]
  },
  {
   "cell_type": "code",
   "execution_count": 2,
   "metadata": {},
   "outputs": [],
   "source": [
    "interactions = pd.read_csv('../pipeline/data/GlycanML/glycanML_glycan_interactions.tsv', sep='\\t')"
   ]
  },
  {
   "cell_type": "code",
   "execution_count": 3,
   "metadata": {},
   "outputs": [
    {
     "data": {
      "text/html": [
       "<div>\n",
       "<style scoped>\n",
       "    .dataframe tbody tr th:only-of-type {\n",
       "        vertical-align: middle;\n",
       "    }\n",
       "\n",
       "    .dataframe tbody tr th {\n",
       "        vertical-align: top;\n",
       "    }\n",
       "\n",
       "    .dataframe thead th {\n",
       "        text-align: right;\n",
       "    }\n",
       "</style>\n",
       "<table border=\"1\" class=\"dataframe\">\n",
       "  <thead>\n",
       "    <tr style=\"text-align: right;\">\n",
       "      <th></th>\n",
       "      <th>protein_sequence</th>\n",
       "      <th>glycan_iupac</th>\n",
       "      <th>interaction</th>\n",
       "      <th>split</th>\n",
       "    </tr>\n",
       "  </thead>\n",
       "  <tbody>\n",
       "    <tr>\n",
       "      <th>0</th>\n",
       "      <td>AADSIPSISPTGIITPTPTQSGMVSNCNKFYDVHSNDGCSAIASSQ...</td>\n",
       "      <td>Fuc(a1-2)Gal</td>\n",
       "      <td>0.293462</td>\n",
       "      <td>train</td>\n",
       "    </tr>\n",
       "    <tr>\n",
       "      <th>1</th>\n",
       "      <td>AADSIPSISPTGIITPTPTQSGMVSNCNKFYDVHSNDGCSAIASSQ...</td>\n",
       "      <td>Fuc(a1-2)Gal(b1-3)GalNAc</td>\n",
       "      <td>-1.316793</td>\n",
       "      <td>train</td>\n",
       "    </tr>\n",
       "    <tr>\n",
       "      <th>2</th>\n",
       "      <td>AADSIPSISPTGIITPTPTQSGMVSNCNKFYDVHSNDGCSAIASSQ...</td>\n",
       "      <td>Fuc(a1-2)Gal(b1-3)GalNAc(a1-3)[Fuc(a1-2)]Gal(b...</td>\n",
       "      <td>-0.860744</td>\n",
       "      <td>train</td>\n",
       "    </tr>\n",
       "    <tr>\n",
       "      <th>3</th>\n",
       "      <td>AADSIPSISPTGIITPTPTQSGMVSNCNKFYDVHSNDGCSAIASSQ...</td>\n",
       "      <td>Fuc(a1-2)Gal(b1-3)GalNAc(a1-3)[Fuc(a1-2)]Gal(b...</td>\n",
       "      <td>-1.211838</td>\n",
       "      <td>train</td>\n",
       "    </tr>\n",
       "    <tr>\n",
       "      <th>4</th>\n",
       "      <td>AADSIPSISPTGIITPTPTQSGMVSNCNKFYDVHSNDGCSAIASSQ...</td>\n",
       "      <td>Fuc(a1-2)Gal(b1-3)GalNAc(b1-3)Gal</td>\n",
       "      <td>-0.335253</td>\n",
       "      <td>train</td>\n",
       "    </tr>\n",
       "  </tbody>\n",
       "</table>\n",
       "</div>"
      ],
      "text/plain": [
       "                                    protein_sequence  \\\n",
       "0  AADSIPSISPTGIITPTPTQSGMVSNCNKFYDVHSNDGCSAIASSQ...   \n",
       "1  AADSIPSISPTGIITPTPTQSGMVSNCNKFYDVHSNDGCSAIASSQ...   \n",
       "2  AADSIPSISPTGIITPTPTQSGMVSNCNKFYDVHSNDGCSAIASSQ...   \n",
       "3  AADSIPSISPTGIITPTPTQSGMVSNCNKFYDVHSNDGCSAIASSQ...   \n",
       "4  AADSIPSISPTGIITPTPTQSGMVSNCNKFYDVHSNDGCSAIASSQ...   \n",
       "\n",
       "                                        glycan_iupac  interaction  split  \n",
       "0                                       Fuc(a1-2)Gal     0.293462  train  \n",
       "1                           Fuc(a1-2)Gal(b1-3)GalNAc    -1.316793  train  \n",
       "2  Fuc(a1-2)Gal(b1-3)GalNAc(a1-3)[Fuc(a1-2)]Gal(b...    -0.860744  train  \n",
       "3  Fuc(a1-2)Gal(b1-3)GalNAc(a1-3)[Fuc(a1-2)]Gal(b...    -1.211838  train  \n",
       "4                  Fuc(a1-2)Gal(b1-3)GalNAc(b1-3)Gal    -0.335253  train  "
      ]
     },
     "execution_count": 3,
     "metadata": {},
     "output_type": "execute_result"
    }
   ],
   "source": [
    "interactions.head()"
   ]
  },
  {
   "cell_type": "code",
   "execution_count": 4,
   "metadata": {},
   "outputs": [
    {
     "name": "stdout",
     "output_type": "stream",
     "text": [
      "number of unique proteins: 1388\n",
      "protein frequencies: dict_values([831, 806, 785, 648, 567, 565, 562, 562, 556, 551, 550, 550, 550, 548, 547, 545, 545, 545, 545, 545, 545, 545, 544, 543, 543, 543, 543, 543, 542, 541, 541, 540, 540, 539, 539, 539, 539, 539, 539, 539, 539, 539, 539, 539, 538, 538, 538, 538, 537, 537, 537, 536, 536, 536, 536, 536, 536, 535, 535, 535, 535, 535, 535, 535, 535, 534, 534, 534, 534, 533, 533, 533, 531, 531, 530, 530, 530, 529, 529, 528, 528, 527, 527, 527, 527, 527, 527, 527, 526, 526, 525, 525, 525, 525, 525, 525, 525, 525, 525, 525, 522, 521, 519, 519, 515, 515, 515, 515, 515, 515, 515, 515, 515, 515, 515, 515, 514, 514, 514, 514, 514, 514, 513, 513, 513, 513, 513, 513, 513, 513, 513, 513, 513, 513, 513, 513, 513, 513, 513, 513, 513, 513, 513, 513, 513, 513, 513, 513, 513, 513, 513, 513, 513, 513, 513, 513, 513, 513, 513, 513, 513, 513, 513, 513, 513, 513, 513, 513, 513, 513, 513, 513, 513, 513, 513, 513, 513, 513, 513, 513, 513, 513, 513, 513, 513, 513, 513, 513, 513, 513, 513, 513, 513, 513, 513, 513, 513, 513, 513, 513, 513, 513, 513, 513, 513, 513, 513, 513, 513, 513, 513, 513, 513, 513, 513, 513, 513, 513, 513, 513, 513, 513, 513, 513, 513, 513, 513, 513, 513, 513, 513, 513, 513, 513, 513, 513, 513, 513, 513, 513, 513, 513, 513, 513, 513, 513, 513, 513, 513, 513, 513, 513, 513, 513, 513, 513, 513, 513, 513, 513, 513, 513, 513, 513, 513, 513, 513, 513, 513, 513, 513, 513, 513, 513, 513, 513, 513, 513, 513, 513, 513, 513, 513, 513, 513, 513, 513, 513, 513, 513, 513, 513, 513, 513, 513, 513, 513, 513, 513, 513, 513, 513, 513, 513, 513, 513, 513, 513, 513, 513, 513, 513, 513, 513, 513, 513, 513, 513, 513, 513, 513, 513, 513, 513, 513, 513, 513, 513, 513, 513, 513, 513, 513, 513, 513, 513, 513, 513, 513, 513, 513, 513, 513, 513, 513, 513, 513, 513, 513, 513, 513, 513, 513, 513, 513, 513, 513, 513, 513, 513, 513, 513, 513, 513, 513, 513, 513, 513, 513, 513, 513, 513, 513, 513, 513, 513, 513, 513, 513, 513, 513, 513, 513, 513, 513, 513, 513, 513, 513, 513, 513, 513, 513, 513, 513, 513, 513, 513, 513, 513, 513, 513, 513, 513, 513, 513, 513, 513, 513, 513, 513, 513, 513, 513, 513, 513, 513, 513, 513, 513, 513, 513, 513, 513, 513, 513, 513, 513, 513, 513, 513, 513, 513, 513, 513, 513, 513, 513, 513, 513, 513, 513, 513, 513, 513, 513, 513, 513, 513, 513, 513, 513, 513, 513, 513, 513, 513, 513, 513, 513, 513, 513, 513, 513, 513, 513, 513, 513, 513, 513, 513, 513, 513, 513, 513, 513, 513, 513, 513, 513, 513, 513, 513, 513, 513, 513, 513, 513, 513, 513, 513, 513, 513, 513, 513, 513, 513, 513, 513, 513, 513, 513, 513, 513, 513, 513, 513, 513, 513, 513, 513, 513, 513, 513, 513, 513, 513, 513, 513, 513, 513, 513, 513, 513, 513, 513, 513, 513, 513, 513, 513, 513, 513, 513, 513, 513, 513, 513, 513, 513, 513, 513, 513, 513, 513, 513, 513, 513, 513, 513, 513, 513, 513, 513, 513, 513, 513, 513, 513, 513, 513, 513, 513, 513, 513, 513, 513, 513, 513, 513, 513, 513, 513, 513, 513, 513, 513, 513, 513, 513, 513, 513, 513, 513, 513, 513, 513, 513, 513, 513, 513, 513, 513, 513, 513, 513, 513, 513, 513, 513, 513, 513, 513, 513, 513, 513, 513, 513, 513, 513, 513, 513, 513, 513, 513, 513, 513, 513, 513, 513, 513, 513, 513, 513, 513, 513, 513, 513, 513, 513, 513, 513, 513, 513, 513, 513, 513, 513, 513, 513, 513, 513, 513, 513, 513, 513, 513, 513, 513, 513, 513, 513, 513, 512, 512, 512, 512, 512, 512, 512, 512, 512, 512, 512, 512, 512, 512, 512, 512, 512, 512, 512, 512, 512, 512, 512, 512, 512, 512, 512, 512, 512, 512, 512, 512, 512, 512, 512, 512, 512, 512, 512, 512, 512, 512, 512, 512, 512, 512, 512, 512, 512, 512, 512, 512, 512, 512, 512, 512, 512, 512, 512, 512, 512, 512, 512, 512, 512, 512, 512, 512, 512, 512, 512, 512, 512, 512, 512, 512, 512, 512, 512, 512, 512, 512, 512, 512, 512, 512, 512, 512, 512, 512, 512, 512, 512, 512, 512, 512, 512, 512, 512, 512, 512, 512, 512, 512, 512, 512, 512, 512, 512, 445, 440, 427, 426, 424, 424, 424, 421, 421, 421, 421, 421, 419, 418, 418, 418, 418, 417, 417, 417, 417, 417, 417, 417, 417, 417, 417, 417, 417, 417, 417, 417, 417, 417, 417, 417, 417, 417, 417, 417, 417, 417, 417, 417, 417, 417, 417, 417, 417, 417, 417, 417, 415, 415, 402, 387, 384, 382, 380, 380, 380, 378, 378, 375, 375, 375, 375, 375, 375, 375, 375, 375, 375, 374, 372, 372, 372, 372, 372, 372, 372, 372, 372, 372, 372, 372, 372, 372, 372, 372, 372, 372, 372, 372, 372, 372, 372, 372, 372, 372, 372, 372, 372, 372, 372, 372, 372, 372, 372, 372, 372, 372, 372, 372, 372, 372, 372, 372, 372, 372, 372, 372, 372, 372, 372, 372, 372, 372, 372, 372, 367, 364, 361, 361, 361, 361, 361, 357, 357, 357, 357, 357, 357, 357, 357, 357, 357, 357, 357, 357, 357, 357, 357, 357, 357, 357, 357, 357, 357, 357, 357, 357, 357, 357, 357, 346, 332, 327, 327, 326, 325, 325, 324, 324, 321, 320, 320, 320, 320, 320, 320, 320, 320, 320, 320, 320, 320, 320, 320, 320, 320, 320, 320, 320, 320, 320, 320, 320, 320, 320, 320, 320, 320, 320, 320, 320, 320, 320, 320, 320, 320, 320, 320, 320, 320, 320, 320, 320, 320, 320, 320, 320, 320, 320, 320, 320, 320, 320, 320, 320, 320, 320, 320, 320, 309, 302, 299, 299, 298, 295, 295, 295, 295, 295, 295, 295, 295, 295, 295, 294, 294, 294, 294, 294, 294, 294, 294, 294, 294, 294, 294, 294, 294, 294, 294, 294, 294, 294, 294, 294, 294, 294, 294, 294, 294, 294, 294, 294, 294, 294, 294, 294, 294, 294, 294, 294, 294, 294, 294, 294, 294, 294, 294, 294, 294, 294, 294, 294, 294, 294, 294, 294, 294, 294, 294, 294, 294, 294, 294, 294, 294, 294, 269, 266, 266, 265, 254, 247, 244, 244, 244, 244, 243, 241, 241, 240, 239, 239, 239, 239, 239, 239, 239, 239, 239, 239, 239, 239, 239, 239, 239, 239, 239, 239, 239, 239, 239, 239, 239, 239, 239, 239, 239, 239, 239, 239, 239, 239, 239, 239, 239, 239, 239, 239, 239, 239, 239, 239, 239, 239, 239, 239, 239, 239, 239, 239, 239, 239, 239, 239, 239, 239, 239, 239, 239, 239, 239, 239, 239, 239, 239, 239, 239, 239, 239, 239, 239, 239, 239, 239, 239, 239, 239, 239, 239, 239, 239, 239, 239, 239, 239, 239, 239, 239, 239, 239, 239, 238, 238, 238, 238, 238, 238, 232, 232, 221, 221, 212, 212, 212, 211, 211, 211, 211, 211, 211, 211, 211, 211, 211, 211, 211, 211, 211, 211, 211, 206, 206, 206, 206, 206, 206, 206, 206, 206, 206, 206, 206, 206, 206, 206, 206, 206, 206, 206, 206, 206, 206, 206, 206, 206, 206, 206, 206, 206, 206, 206, 206, 201, 195, 195, 195, 195, 195, 195, 195, 195, 195, 195, 195, 195, 195, 195, 195, 195, 195, 195, 195, 195, 195, 195, 195, 195, 195, 195, 195, 195, 195, 195, 195, 195, 195, 195, 195, 195, 195, 195, 195, 195, 195, 195, 195, 195, 195, 195, 194, 194, 194, 194, 194, 194, 194, 194, 194, 194, 194, 194, 194, 194, 194, 194, 194, 194, 194, 194, 194, 194, 194, 194, 194, 189, 189, 189, 189, 189, 189, 189, 189, 189, 189, 189, 189, 189, 189, 189, 189, 189, 189, 189, 189, 189, 189, 144, 144, 144, 144, 144, 144, 144, 144, 144, 144, 144, 144, 144, 144, 144, 144, 144, 144, 116, 116, 116, 116, 115, 115, 115, 115, 107, 107, 107, 107, 101, 87, 87, 73, 73, 72, 71, 71, 71, 71, 71, 71, 71, 71, 51, 51, 46, 46, 46, 46, 35, 20, 20, 9])\n"
     ]
    }
   ],
   "source": [
    "print('number of unique proteins:', interactions['protein_sequence'].nunique())\n",
    "\n",
    "print('protein frequencies:', interactions['protein_sequence'].value_counts().to_dict().values())"
   ]
  },
  {
   "cell_type": "code",
   "execution_count": 5,
   "metadata": {},
   "outputs": [
    {
     "name": "stdout",
     "output_type": "stream",
     "text": [
      "number of unique glycans: 927\n",
      "glycan frequencies: dict_values([1374, 1370, 1370, 1370, 1370, 1370, 1370, 1370, 1370, 1370, 1370, 1370, 1370, 1370, 1370, 1370, 1367, 1367, 1366, 1361, 1360, 1360, 1358, 1358, 1356, 1356, 1356, 1356, 1356, 1356, 1354, 1354, 1352, 1352, 1352, 1352, 1352, 1352, 1352, 1352, 1352, 1352, 1351, 1351, 1351, 1351, 1349, 1349, 1349, 1349, 1349, 1349, 1349, 1349, 1349, 1349, 1349, 1349, 1349, 1349, 1349, 1349, 1349, 1349, 1349, 1349, 1349, 1345, 1345, 1345, 1345, 1345, 1345, 1345, 1345, 1345, 1345, 1345, 1345, 1345, 1345, 1345, 1345, 1345, 1345, 1345, 1345, 1345, 1345, 1345, 1345, 1345, 1345, 1345, 1345, 1345, 1345, 1345, 1345, 1345, 1345, 1345, 1345, 1345, 1345, 1345, 1345, 1345, 1345, 1345, 1345, 1345, 1345, 1345, 1345, 1345, 1345, 1343, 1340, 1340, 1336, 1334, 1331, 1331, 1331, 1331, 1331, 1331, 1331, 1331, 1331, 1331, 1330, 1327, 1327, 1327, 1327, 1327, 1327, 1327, 1327, 1327, 1327, 1327, 1327, 1327, 1327, 1327, 1327, 1327, 1327, 1327, 1327, 1327, 1327, 1327, 1317, 1316, 1316, 1300, 1298, 1297, 1295, 1295, 1291, 1291, 1291, 1291, 1291, 1291, 1291, 1291, 1291, 1291, 1291, 1291, 1291, 1283, 1282, 1275, 1275, 1271, 1271, 1250, 1231, 1231, 1231, 1231, 1231, 1231, 1231, 1231, 1231, 1231, 1231, 1231, 1231, 1231, 1219, 1186, 1186, 1184, 1177, 1177, 1177, 1177, 1177, 1177, 1177, 1177, 1177, 1177, 1177, 1177, 1177, 1177, 1177, 1177, 1177, 1177, 1177, 1171, 1171, 1117, 1078, 1078, 1078, 1078, 1076, 1076, 1076, 1069, 1069, 1069, 1069, 1069, 1069, 1069, 1069, 1069, 1069, 1069, 1069, 1069, 1069, 1069, 1069, 1069, 1069, 1069, 1069, 1069, 1069, 1069, 1069, 1069, 1069, 1069, 1069, 1069, 1069, 1069, 1069, 1069, 1069, 1069, 1069, 1069, 1069, 1069, 1056, 1016, 1011, 1001, 999, 999, 999, 999, 992, 992, 992, 992, 992, 992, 992, 992, 992, 992, 992, 992, 992, 992, 992, 992, 992, 992, 992, 992, 992, 992, 965, 950, 950, 950, 923, 923, 923, 923, 923, 923, 923, 923, 923, 923, 923, 923, 923, 923, 923, 923, 923, 923, 923, 923, 923, 923, 923, 923, 923, 923, 923, 923, 923, 923, 923, 916, 904, 904, 896, 888, 888, 888, 888, 888, 888, 888, 888, 888, 887, 883, 844, 842, 822, 812, 812, 812, 812, 812, 812, 812, 812, 812, 812, 812, 812, 812, 812, 812, 812, 812, 812, 812, 812, 812, 812, 812, 812, 812, 812, 812, 812, 812, 812, 812, 812, 812, 812, 812, 812, 812, 812, 812, 810, 792, 788, 782, 772, 770, 769, 768, 762, 762, 762, 762, 762, 762, 762, 762, 762, 762, 762, 762, 762, 762, 762, 762, 762, 762, 762, 762, 762, 762, 762, 762, 762, 762, 762, 762, 762, 762, 762, 762, 762, 762, 762, 762, 762, 762, 762, 762, 762, 762, 762, 762, 762, 762, 762, 762, 762, 762, 762, 762, 762, 762, 762, 762, 762, 762, 762, 762, 762, 762, 762, 762, 762, 762, 762, 762, 762, 762, 762, 762, 762, 762, 762, 762, 762, 762, 762, 762, 762, 762, 762, 762, 762, 762, 762, 762, 762, 762, 762, 762, 762, 762, 762, 762, 762, 762, 762, 762, 762, 762, 761, 761, 761, 761, 755, 733, 724, 724, 716, 716, 687, 683, 667, 646, 597, 542, 505, 498, 480, 479, 479, 473, 464, 365, 365, 365, 361, 357, 356, 336, 315, 293, 286, 285, 277, 216, 206, 206, 204, 204, 157, 157, 134, 134, 102, 100, 100, 99, 99, 86, 86, 86, 86, 86, 86, 86, 86, 86, 86, 86, 86, 86, 86, 86, 86, 86, 86, 86, 86, 86, 63, 63, 63, 63, 63, 33, 33, 33, 33, 33, 33, 33, 33, 33, 33, 33, 33, 33, 33, 33, 33, 33, 33, 33, 33, 33, 32, 32, 32, 32, 32, 32, 32, 32, 32, 32, 32, 28, 28, 28, 28, 28, 26, 24, 23, 23, 23, 22, 21, 20, 20, 20, 20, 20, 20, 20, 20, 20, 20, 20, 20, 19, 19, 19, 19, 19, 19, 19, 19, 19, 19, 19, 19, 19, 19, 19, 19, 18, 18, 18, 17, 17, 17, 17, 17, 17, 17, 17, 17, 17, 17, 17, 17, 17, 17, 17, 17, 16, 16, 16, 16, 16, 16, 16, 16, 15, 15, 15, 15, 15, 15, 15, 15, 15, 15, 15, 15, 15, 15, 15, 15, 15, 15, 15, 15, 14, 14, 14, 14, 14, 14, 13, 13, 13, 13, 13, 13, 13, 13, 13, 13, 13, 13, 13, 13, 13, 13, 13, 13, 13, 13, 13, 13, 13, 13, 13, 12, 12, 12, 12, 12, 12, 12, 12, 12, 12, 12, 12, 12, 12, 12, 12, 12, 12, 12, 12, 12, 12, 12, 12, 11, 11, 11, 11, 11, 11, 11, 11, 11, 11, 11, 11, 11, 11, 11, 11, 11, 11, 11, 11, 11, 11, 11, 11, 11, 11, 11, 11, 11, 11, 11, 11, 11, 11, 11, 11, 11, 11, 11, 11, 11, 11, 11, 11, 10, 10, 10, 10, 10, 10, 10, 10, 10, 10, 10, 10, 10, 10, 10, 10, 10, 10, 10, 10, 10, 10, 10, 10, 10, 10, 10, 10, 10, 10, 10, 10, 10, 10, 10, 10, 10, 10, 10, 10, 10, 10, 10, 10, 10, 10, 10, 10, 10, 10, 10, 10, 10, 10, 9, 9, 8, 8, 7, 7, 7, 6, 6, 6, 6, 6, 6, 6, 6, 6, 6, 6, 6, 6, 6, 6, 6, 6, 6, 6, 6, 5, 5, 5, 5, 5, 5, 5, 5, 5, 5, 5, 5, 5, 5, 5, 5, 5, 5, 5, 5, 5, 5, 5, 5, 5, 5, 5, 5, 4, 4, 4, 4, 4, 4, 4, 4, 4, 4, 3, 3, 3, 3, 3, 2, 2, 1, 1, 1, 1, 1])\n"
     ]
    }
   ],
   "source": [
    "print('number of unique glycans:', interactions['glycan_iupac'].nunique())\n",
    "\n",
    "print('glycan frequencies:', interactions['glycan_iupac'].value_counts().to_dict().values())"
   ]
  },
  {
   "cell_type": "code",
   "execution_count": 6,
   "metadata": {},
   "outputs": [],
   "source": [
    "# protein_sequence -> protein_id\n",
    "unique_proteins = interactions['protein_sequence'].unique()\n",
    "protein_mapping = {seq: idx+1 for idx, seq in enumerate(unique_proteins)}\n",
    "\n",
    "# glycan_iupac -> glycan_id\n",
    "unique_glycans = interactions['glycan_iupac'].unique()\n",
    "glycan_mapping = {iupac: f'glycan_{idx+1}' for idx, iupac in enumerate(unique_glycans)}\n",
    "\n",
    "proteins_df = pd.DataFrame({\n",
    "    'ProteinGroup': [protein_mapping[seq] for seq in unique_proteins],\n",
    "    'Amino Acid Sequence': unique_proteins\n",
    "})\n",
    "\n",
    "glycans_df = pd.DataFrame({\n",
    "    'Name': [glycan_mapping[iupac] for iupac in unique_glycans],\n",
    "    'IUPAC': unique_glycans\n",
    "})"
   ]
  },
  {
   "cell_type": "code",
   "execution_count": 7,
   "metadata": {},
   "outputs": [
    {
     "data": {
      "text/html": [
       "<div>\n",
       "<style scoped>\n",
       "    .dataframe tbody tr th:only-of-type {\n",
       "        vertical-align: middle;\n",
       "    }\n",
       "\n",
       "    .dataframe tbody tr th {\n",
       "        vertical-align: top;\n",
       "    }\n",
       "\n",
       "    .dataframe thead th {\n",
       "        text-align: right;\n",
       "    }\n",
       "</style>\n",
       "<table border=\"1\" class=\"dataframe\">\n",
       "  <thead>\n",
       "    <tr style=\"text-align: right;\">\n",
       "      <th></th>\n",
       "      <th>protein_sequence</th>\n",
       "      <th>glycan_iupac</th>\n",
       "      <th>interaction</th>\n",
       "      <th>split</th>\n",
       "    </tr>\n",
       "  </thead>\n",
       "  <tbody>\n",
       "    <tr>\n",
       "      <th>0</th>\n",
       "      <td>AADSIPSISPTGIITPTPTQSGMVSNCNKFYDVHSNDGCSAIASSQ...</td>\n",
       "      <td>Fuc(a1-2)Gal</td>\n",
       "      <td>0.293462</td>\n",
       "      <td>train</td>\n",
       "    </tr>\n",
       "    <tr>\n",
       "      <th>1</th>\n",
       "      <td>AADSIPSISPTGIITPTPTQSGMVSNCNKFYDVHSNDGCSAIASSQ...</td>\n",
       "      <td>Fuc(a1-2)Gal(b1-3)GalNAc</td>\n",
       "      <td>-1.316793</td>\n",
       "      <td>train</td>\n",
       "    </tr>\n",
       "    <tr>\n",
       "      <th>2</th>\n",
       "      <td>AADSIPSISPTGIITPTPTQSGMVSNCNKFYDVHSNDGCSAIASSQ...</td>\n",
       "      <td>Fuc(a1-2)Gal(b1-3)GalNAc(a1-3)[Fuc(a1-2)]Gal(b...</td>\n",
       "      <td>-0.860744</td>\n",
       "      <td>train</td>\n",
       "    </tr>\n",
       "    <tr>\n",
       "      <th>3</th>\n",
       "      <td>AADSIPSISPTGIITPTPTQSGMVSNCNKFYDVHSNDGCSAIASSQ...</td>\n",
       "      <td>Fuc(a1-2)Gal(b1-3)GalNAc(a1-3)[Fuc(a1-2)]Gal(b...</td>\n",
       "      <td>-1.211838</td>\n",
       "      <td>train</td>\n",
       "    </tr>\n",
       "    <tr>\n",
       "      <th>4</th>\n",
       "      <td>AADSIPSISPTGIITPTPTQSGMVSNCNKFYDVHSNDGCSAIASSQ...</td>\n",
       "      <td>Fuc(a1-2)Gal(b1-3)GalNAc(b1-3)Gal</td>\n",
       "      <td>-0.335253</td>\n",
       "      <td>train</td>\n",
       "    </tr>\n",
       "  </tbody>\n",
       "</table>\n",
       "</div>"
      ],
      "text/plain": [
       "                                    protein_sequence  \\\n",
       "0  AADSIPSISPTGIITPTPTQSGMVSNCNKFYDVHSNDGCSAIASSQ...   \n",
       "1  AADSIPSISPTGIITPTPTQSGMVSNCNKFYDVHSNDGCSAIASSQ...   \n",
       "2  AADSIPSISPTGIITPTPTQSGMVSNCNKFYDVHSNDGCSAIASSQ...   \n",
       "3  AADSIPSISPTGIITPTPTQSGMVSNCNKFYDVHSNDGCSAIASSQ...   \n",
       "4  AADSIPSISPTGIITPTPTQSGMVSNCNKFYDVHSNDGCSAIASSQ...   \n",
       "\n",
       "                                        glycan_iupac  interaction  split  \n",
       "0                                       Fuc(a1-2)Gal     0.293462  train  \n",
       "1                           Fuc(a1-2)Gal(b1-3)GalNAc    -1.316793  train  \n",
       "2  Fuc(a1-2)Gal(b1-3)GalNAc(a1-3)[Fuc(a1-2)]Gal(b...    -0.860744  train  \n",
       "3  Fuc(a1-2)Gal(b1-3)GalNAc(a1-3)[Fuc(a1-2)]Gal(b...    -1.211838  train  \n",
       "4                  Fuc(a1-2)Gal(b1-3)GalNAc(b1-3)Gal    -0.335253  train  "
      ]
     },
     "execution_count": 7,
     "metadata": {},
     "output_type": "execute_result"
    }
   ],
   "source": [
    "interactions.head()"
   ]
  },
  {
   "cell_type": "code",
   "execution_count": 8,
   "metadata": {},
   "outputs": [
    {
     "name": "stdout",
     "output_type": "stream",
     "text": [
      "(1388, 2)\n",
      "(1387, 2)\n",
      "(1374, 2)\n",
      "(1373, 2)\n",
      "(1372, 2)\n",
      "(1371, 2)\n",
      "int shape (564647, 4)\n",
      "int filt shape (557115, 4)\n"
     ]
    }
   ],
   "source": [
    "print(proteins_df.shape)\n",
    "proteins_df_filtered = proteins_df[\n",
    "    ~proteins_df['Amino Acid Sequence'].str.contains(r'\\*', na=False)\n",
    "]\n",
    "print(proteins_df_filtered.shape)\n",
    "proteins_df_filtered = proteins_df_filtered[\n",
    "    ~proteins_df_filtered['Amino Acid Sequence'].str.contains(r'X', na=False)\n",
    "]\n",
    "print(proteins_df_filtered.shape)\n",
    "proteins_df_filtered = proteins_df_filtered[\n",
    "    ~proteins_df_filtered['Amino Acid Sequence'].str.contains(r'B', na=False)\n",
    "]\n",
    "print(proteins_df_filtered.shape)\n",
    "proteins_df_filtered = proteins_df_filtered[\n",
    "    ~proteins_df_filtered['Amino Acid Sequence'].str.contains(r'2', na=False)\n",
    "]\n",
    "print(proteins_df_filtered.shape)\n",
    "proteins_df_filtered = proteins_df_filtered[\n",
    "    ~proteins_df_filtered['Amino Acid Sequence'].str.contains(r'1', na=False)\n",
    "]\n",
    "print(proteins_df_filtered.shape)\n",
    "\n",
    "print('int shape', interactions.shape)\n",
    "protein_mapping = {seq: idx+1 for idx, seq in enumerate(proteins_df_filtered['Amino Acid Sequence'])}\n",
    "interactions_filtered = interactions[\n",
    "    interactions['protein_sequence'].isin(proteins_df_filtered['Amino Acid Sequence'])\n",
    "]\n",
    "print('int filt shape', interactions_filtered.shape)"
   ]
  },
  {
   "cell_type": "code",
   "execution_count": null,
   "metadata": {},
   "outputs": [],
   "source": [
    "from rdkit import Chem\n",
    "def safe_mol_from_smiles(smiles):\n",
    "    # Check if smiles is a string and not NaN\n",
    "    if pd.notna(smiles) and isinstance(smiles, str):\n",
    "        try:\n",
    "            mol = Chem.MolFromSmiles(smiles)\n",
    "            return mol\n",
    "        except Exception as e:\n",
    "            #print(f\"Error converting SMILES {smiles}: {e}\")\n",
    "            return Exception\n",
    "    return None"
   ]
  },
  {
   "cell_type": "code",
   "execution_count": 12,
   "metadata": {},
   "outputs": [],
   "source": [
    "# for each glyucan check if we can convert its IUPAC into a SMILES so we can use our datasplit\n",
    "\n",
    "import pubchempy as pcp\n",
    "\n",
    "def CIRconvert(ids):\n",
    "    s= pcp.get_compounds(ids,'name')\n",
    "    try:\n",
    "        s = s[0].isomeric_smiles\n",
    "        safe_mol_from_smiles(s)\n",
    "        return s\n",
    "    except:\n",
    "        return 'Did not work'\n",
    "\n",
    "\n",
    "smiles_arr = []\n",
    "\n",
    "iupac_to_smiles_dict = {}\n",
    "\n",
    "for ids in glycans_df.IUPAC.values.tolist():\n",
    "    #print(ids)\n",
    "    smiles = CIRconvert(ids)\n",
    "    if smiles != 'Did not work':\n",
    "        iupac_to_smiles_dict[ids] = smiles\n",
    "        smiles_arr.append(smiles)\n",
    "    else:\n",
    "        smiles_arr.append(None)"
   ]
  },
  {
   "cell_type": "code",
   "execution_count": 13,
   "metadata": {},
   "outputs": [],
   "source": [
    "import json\n",
    "with open('iupac_to_smiles_dict.json', 'w') as fp:\n",
    "    json.dump(iupac_to_smiles_dict, fp)"
   ]
  },
  {
   "cell_type": "code",
   "execution_count": 14,
   "metadata": {},
   "outputs": [
    {
     "name": "stdout",
     "output_type": "stream",
     "text": [
      "927\n",
      "510\n"
     ]
    }
   ],
   "source": [
    "print(len(smiles_arr))\n",
    "print(smiles_arr.count(None))"
   ]
  },
  {
   "cell_type": "code",
   "execution_count": 15,
   "metadata": {},
   "outputs": [],
   "source": [
    "glycans_df['SMILES'] = smiles_arr"
   ]
  },
  {
   "cell_type": "code",
   "execution_count": null,
   "metadata": {},
   "outputs": [],
   "source": [
    "#glycans_df = pd.read_csv('../pipeline/data/GlycanML/glycans_w_smiles.tsv', sep='\\t')"
   ]
  },
  {
   "cell_type": "code",
   "execution_count": 16,
   "metadata": {},
   "outputs": [
    {
     "name": "stdout",
     "output_type": "stream",
     "text": [
      "(557115, 4)\n",
      "(240035, 4)\n"
     ]
    }
   ],
   "source": [
    "\n",
    "glycans_with_smiles_df = glycans_df[glycans_df['SMILES'].notnull()]\n",
    "valid_glycan_ids = set(glycans_with_smiles_df['Name'].tolist())\n",
    "print(interactions_filtered.shape)\n",
    "interactions_with_smiles = interactions_filtered[interactions_filtered['glycan_iupac'].isin(glycans_with_smiles_df['IUPAC'])]\n",
    "print(interactions_with_smiles.shape)"
   ]
  },
  {
   "cell_type": "code",
   "execution_count": 17,
   "metadata": {},
   "outputs": [],
   "source": [
    "unique_glycans = interactions_with_smiles['glycan_iupac'].unique()\n",
    "glycan_mapping = {iupac: f'glycan_{idx+1}' for idx, iupac in enumerate(unique_glycans)}\n",
    "\n",
    "unique_proteins = interactions_with_smiles['protein_sequence'].unique()\n",
    "protein_mapping = {seq: idx+1 for idx, seq in enumerate(unique_proteins)}\n",
    "\n",
    "proteins_df = pd.DataFrame({\n",
    "    'ProteinGroup': [protein_mapping[seq] for seq in unique_proteins],\n",
    "    'Amino Acid Sequence': unique_proteins\n",
    "})\n",
    "\n",
    "glycans_df = pd.DataFrame({\n",
    "    'Name': [glycan_mapping[iupac] for iupac in unique_glycans],\n",
    "    'IUPAC': unique_glycans,\n",
    "    'SMILES': [iupac_to_smiles_dict[iupac] for iupac in unique_glycans]\n",
    "})"
   ]
  },
  {
   "cell_type": "code",
   "execution_count": 18,
   "metadata": {},
   "outputs": [],
   "source": [
    "train_fractions_data = []\n",
    "test_fractions_data = []\n",
    "obj_id_start = 1000000\n",
    "\n",
    "for idx, row in interactions_with_smiles.iterrows():\n",
    "    protein_id = protein_mapping[row['protein_sequence']]\n",
    "    glycan_id = glycan_mapping[row['glycan_iupac']]\n",
    "    interaction = float(row['interaction'])\n",
    "    split = row['split']\n",
    "    \n",
    "    f_value = interaction #max(0, interaction)\n",
    "\n",
    "    \n",
    "    entry = {\n",
    "        'ObjId': obj_id_start + idx,\n",
    "        'ProteinGroup': protein_id,\n",
    "        'Concentration': 1.0,\n",
    "        'GlycanID': glycan_id,\n",
    "        'f': f_value\n",
    "    }\n",
    "    \n",
    "    if split == 'train':\n",
    "        train_fractions_data.append(entry)\n",
    "    elif split == 'test':\n",
    "        test_fractions_data.append(entry)\n",
    "\n",
    "train_fractions_df = pd.DataFrame(train_fractions_data)\n",
    "test_fractions_df = pd.DataFrame(test_fractions_data)"
   ]
  },
  {
   "cell_type": "code",
   "execution_count": 19,
   "metadata": {},
   "outputs": [
    {
     "data": {
      "text/html": [
       "<div>\n",
       "<style scoped>\n",
       "    .dataframe tbody tr th:only-of-type {\n",
       "        vertical-align: middle;\n",
       "    }\n",
       "\n",
       "    .dataframe tbody tr th {\n",
       "        vertical-align: top;\n",
       "    }\n",
       "\n",
       "    .dataframe thead th {\n",
       "        text-align: right;\n",
       "    }\n",
       "</style>\n",
       "<table border=\"1\" class=\"dataframe\">\n",
       "  <thead>\n",
       "    <tr style=\"text-align: right;\">\n",
       "      <th></th>\n",
       "      <th>ObjId</th>\n",
       "      <th>ProteinGroup</th>\n",
       "      <th>Concentration</th>\n",
       "      <th>GlycanID</th>\n",
       "      <th>f</th>\n",
       "    </tr>\n",
       "  </thead>\n",
       "  <tbody>\n",
       "    <tr>\n",
       "      <th>0</th>\n",
       "      <td>1000000</td>\n",
       "      <td>1</td>\n",
       "      <td>1.0</td>\n",
       "      <td>glycan_1</td>\n",
       "      <td>0.293462</td>\n",
       "    </tr>\n",
       "    <tr>\n",
       "      <th>1</th>\n",
       "      <td>1000001</td>\n",
       "      <td>1</td>\n",
       "      <td>1.0</td>\n",
       "      <td>glycan_2</td>\n",
       "      <td>-1.316793</td>\n",
       "    </tr>\n",
       "    <tr>\n",
       "      <th>2</th>\n",
       "      <td>1000003</td>\n",
       "      <td>1</td>\n",
       "      <td>1.0</td>\n",
       "      <td>glycan_3</td>\n",
       "      <td>-1.211838</td>\n",
       "    </tr>\n",
       "    <tr>\n",
       "      <th>3</th>\n",
       "      <td>1000004</td>\n",
       "      <td>1</td>\n",
       "      <td>1.0</td>\n",
       "      <td>glycan_4</td>\n",
       "      <td>-0.335253</td>\n",
       "    </tr>\n",
       "    <tr>\n",
       "      <th>4</th>\n",
       "      <td>1000005</td>\n",
       "      <td>1</td>\n",
       "      <td>1.0</td>\n",
       "      <td>glycan_5</td>\n",
       "      <td>-1.127330</td>\n",
       "    </tr>\n",
       "  </tbody>\n",
       "</table>\n",
       "</div>"
      ],
      "text/plain": [
       "     ObjId  ProteinGroup  Concentration  GlycanID         f\n",
       "0  1000000             1            1.0  glycan_1  0.293462\n",
       "1  1000001             1            1.0  glycan_2 -1.316793\n",
       "2  1000003             1            1.0  glycan_3 -1.211838\n",
       "3  1000004             1            1.0  glycan_4 -0.335253\n",
       "4  1000005             1            1.0  glycan_5 -1.127330"
      ]
     },
     "execution_count": 19,
     "metadata": {},
     "output_type": "execute_result"
    }
   ],
   "source": [
    "train_fractions_df.head()"
   ]
  },
  {
   "cell_type": "code",
   "execution_count": 24,
   "metadata": {},
   "outputs": [
    {
     "name": "stdout",
     "output_type": "stream",
     "text": [
      "-0.045645659326037535\n"
     ]
    }
   ],
   "source": [
    "test = train_fractions_df.f.values.tolist()\n",
    "print(sum(test)/len(test))"
   ]
  },
  {
   "cell_type": "code",
   "execution_count": 20,
   "metadata": {},
   "outputs": [
    {
     "name": "stdout",
     "output_type": "stream",
     "text": [
      "Proteins Shape: (1371, 2)\n",
      "Glycans Shape: (417, 3)\n",
      "Train Fractions Shape: (188767, 5)\n",
      "Test Fractions Shape: (26628, 5)\n"
     ]
    }
   ],
   "source": [
    "print(f\"Proteins Shape: {proteins_df.shape}\")\n",
    "print(f\"Glycans Shape: {glycans_df.shape}\")\n",
    "print(f\"Train Fractions Shape: {train_fractions_df.shape}\")\n",
    "print(f\"Test Fractions Shape: {test_fractions_df.shape}\")"
   ]
  },
  {
   "cell_type": "code",
   "execution_count": 21,
   "metadata": {},
   "outputs": [],
   "source": [
    "proteins_df.to_csv('../pipeline/data/GlycanML/proteins.tsv', sep='\\t', index=False)\n",
    "glycans_df.to_csv('../pipeline/data/GlycanML/glycans.tsv', sep='\\t', index=False)\n",
    "train_fractions_df.to_csv('../pipeline/data/GlycanML/train_fractions.tsv', sep='\\t', index=False)\n",
    "test_fractions_df.to_csv('../pipeline/data/GlycanML/test_fractions.tsv', sep='\\t', index=False)"
   ]
  }
 ],
 "metadata": {
  "kernelspec": {
   "display_name": "test_env",
   "language": "python",
   "name": "python3"
  },
  "language_info": {
   "codemirror_mode": {
    "name": "ipython",
    "version": 3
   },
   "file_extension": ".py",
   "mimetype": "text/x-python",
   "name": "python",
   "nbconvert_exporter": "python",
   "pygments_lexer": "ipython3",
   "version": "3.12.9"
  }
 },
 "nbformat": 4,
 "nbformat_minor": 2
}
