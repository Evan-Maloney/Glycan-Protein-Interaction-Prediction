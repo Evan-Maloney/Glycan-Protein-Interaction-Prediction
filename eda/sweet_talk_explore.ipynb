{
 "cells": [
  {
   "cell_type": "code",
   "execution_count": 1,
   "metadata": {},
   "outputs": [],
   "source": [
    "import pandas as pd\n",
    "import numpy as np"
   ]
  },
  {
   "cell_type": "code",
   "execution_count": 27,
   "metadata": {},
   "outputs": [],
   "source": [
    "# list of all iupacs from sweettalks databse\n",
    "df_all = pd.read_csv('../pipeline/data/combined_database_long.csv').target.values.tolist()"
   ]
  },
  {
   "cell_type": "code",
   "execution_count": null,
   "metadata": {},
   "outputs": [],
   "source": [
    "# see if all covered from our set of IUPAC's\n",
    "our_glycan_iupacs = pd.read_csv('../pipeline/data/Glycan-Structures-CFG611.txt', sep='\\t').IUPAC.values.tolist()"
   ]
  },
  {
   "cell_type": "code",
   "execution_count": 15,
   "metadata": {},
   "outputs": [
    {
     "name": "stdout",
     "output_type": "stream",
     "text": [
      "len of allset: 13541, len of our set: 611, amount in our set that isnt in all set: 611\n"
     ]
    }
   ],
   "source": [
    "all_set = set(df_all)\n",
    "our_set = set(our_glycan_iupacs)\n",
    "\n",
    "print(f'len of allset: {len(all_set)}, len of our set: {len(our_set)}, amount in our set that isnt in all set: {len(our_set - all_set)}')"
   ]
  },
  {
   "cell_type": "code",
   "execution_count": 16,
   "metadata": {},
   "outputs": [],
   "source": [
    "\n",
    "def motif_find(s):\n",
    "  \"\"\"converts a IUPACcondensed-ish glycan into a list of overlapping, asterisk-separated glycowords\"\"\"\n",
    "  b = s.split('(')\n",
    "  b = [k.split(')') for k in b]\n",
    "  b = [item for sublist in b for item in sublist]\n",
    "  b = [k.strip('[') for k in b]\n",
    "  b = [k.strip(']') for k in b]\n",
    "  b = [k.replace('[', '') for k in b]\n",
    "  b = [k.replace(']', '') for k in b]\n",
    "  b = ['*'.join(b[i:i+5]) for i in range(0, len(b)-4, 2)]\n",
    "  return b\n",
    "\n",
    "def process_glycans(glycan_list):\n",
    "  \"\"\"converts list of glycans into a list of lists of glycowords\"\"\"\n",
    "  glycan_motifs = [motif_find(k) for k in glycan_list]\n",
    "  glycan_motifs = [[i.split('*') for i in k] for k in glycan_motifs]\n",
    "  return glycan_motifs"
   ]
  },
  {
   "cell_type": "code",
   "execution_count": 28,
   "metadata": {},
   "outputs": [],
   "source": [
    "df_all = process_glycans(df_all)"
   ]
  },
  {
   "cell_type": "code",
   "execution_count": 29,
   "metadata": {},
   "outputs": [
    {
     "data": {
      "text/plain": [
       "[[['Glc', 'a1-3', 'Glc', 'a1-3', 'Man'],\n",
       "  ['Glc', 'a1-3', 'Man', 'a1-2', 'Man'],\n",
       "  ['Man', 'a1-2', 'Man', 'a1-2', 'Man'],\n",
       "  ['Man', 'a1-2', 'Man', 'a1-3', 'Man'],\n",
       "  ['Man', 'a1-3', 'Man', 'a1-2', 'Man'],\n",
       "  ['Man', 'a1-2', 'Man', 'a1-3', 'Man'],\n",
       "  ['Man', 'a1-3', 'Man', 'a1-2', 'Man'],\n",
       "  ['Man', 'a1-2', 'Man', 'a1-6', 'Man'],\n",
       "  ['Man', 'a1-6', 'Man', 'a1-6', 'Man'],\n",
       "  ['Man', 'a1-6', 'Man', 'b1-4', 'GlcNAc'],\n",
       "  ['Man', 'b1-4', 'GlcNAc', 'b1-4', 'GlcNAc']],\n",
       " [['Gal', 'a1-3', 'Galf', 'a1-3', 'Galf'],\n",
       "  ['Galf', 'a1-3', 'Galf', 'a1-3', 'Man'],\n",
       "  ['Galf', 'a1-3', 'Man', 'a1-3', 'Man'],\n",
       "  ['Man', 'a1-3', 'Man', 'a1-4', 'GlcN']],\n",
       " [['Gal', 'a1-2', 'Man', 'b1-4', 'Rha']],\n",
       " [['Gal', 'b1-4', 'Fuc', 'a1-3', 'GlcNAc'],\n",
       "  ['Fuc', 'a1-3', 'GlcNAc', 'b1-2', 'Man'],\n",
       "  ['GlcNAc', 'b1-2', 'Man', 'a1-3', 'Gal'],\n",
       "  ['Man', 'a1-3', 'Gal', 'b1-4', 'Fuc'],\n",
       "  ['Gal', 'b1-4', 'Fuc', 'a1-3', 'GlcNAc'],\n",
       "  ['Fuc', 'a1-3', 'GlcNAc', 'b1-2', 'Gal'],\n",
       "  ['GlcNAc', 'b1-2', 'Gal', 'b1-4', 'Fuc'],\n",
       "  ['Gal', 'b1-4', 'Fuc', 'a1-3', 'GlcNAc'],\n",
       "  ['Fuc', 'a1-3', 'GlcNAc', 'b1-6', 'Man'],\n",
       "  ['GlcNAc', 'b1-6', 'Man', 'a1-6', 'Man'],\n",
       "  ['Man', 'a1-6', 'Man', 'b1-4', 'GlcNAc'],\n",
       "  ['Man', 'b1-4', 'GlcNAc', 'b1-4', 'GlcNAc']],\n",
       " [['GlcNAc', 'b1-3', 'Gal', 'b1-3', 'NeuNAc'],\n",
       "  ['Gal', 'b1-3', 'NeuNAc', 'a2-6', 'GalNAc']]]"
      ]
     },
     "execution_count": 29,
     "metadata": {},
     "output_type": "execute_result"
    }
   ],
   "source": [
    "df_all[:5]"
   ]
  },
  {
   "cell_type": "code",
   "execution_count": 30,
   "metadata": {},
   "outputs": [
    {
     "data": {
      "text/plain": [
       "[['Glc', 'a1-3', 'Glc', 'a1-3', 'Man'],\n",
       " ['Glc', 'a1-3', 'Man', 'a1-2', 'Man'],\n",
       " ['Man', 'a1-2', 'Man', 'a1-2', 'Man'],\n",
       " ['Man', 'a1-2', 'Man', 'a1-3', 'Man'],\n",
       " ['Man', 'a1-3', 'Man', 'a1-2', 'Man']]"
      ]
     },
     "execution_count": 30,
     "metadata": {},
     "output_type": "execute_result"
    }
   ],
   "source": [
    "df_all = [item for sublist in df_all for item in sublist]\n",
    "df_all[:5]"
   ]
  },
  {
   "cell_type": "code",
   "execution_count": 31,
   "metadata": {},
   "outputs": [],
   "source": [
    "#make library of all observed glycowords\n",
    "lib_all = list(sorted(list(set([item for sublist in df_all for item in sublist]))))\n",
    "lib_size_all = len(lib_all)"
   ]
  },
  {
   "cell_type": "code",
   "execution_count": null,
   "metadata": {},
   "outputs": [],
   "source": []
  },
  {
   "cell_type": "code",
   "execution_count": 35,
   "metadata": {},
   "outputs": [
    {
     "data": {
      "text/plain": [
       "['',\n",
       " '1',\n",
       " '1,4-Anhydro-Gal',\n",
       " '1,4-Anhydro-Kdo',\n",
       " '1-3',\n",
       " '1-4',\n",
       " '1-6',\n",
       " '2,3-Anhydro-All']"
      ]
     },
     "execution_count": 35,
     "metadata": {},
     "output_type": "execute_result"
    }
   ],
   "source": [
    "lib_all[:8]"
   ]
  }
 ],
 "metadata": {
  "kernelspec": {
   "display_name": "test_env",
   "language": "python",
   "name": "python3"
  },
  "language_info": {
   "codemirror_mode": {
    "name": "ipython",
    "version": 3
   },
   "file_extension": ".py",
   "mimetype": "text/x-python",
   "name": "python",
   "nbconvert_exporter": "python",
   "pygments_lexer": "ipython3",
   "version": "3.12.9"
  }
 },
 "nbformat": 4,
 "nbformat_minor": 2
}
