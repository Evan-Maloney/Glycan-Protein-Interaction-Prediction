{
 "cells": [
  {
   "cell_type": "code",
   "execution_count": 48,
   "metadata": {},
   "outputs": [],
   "source": [
    "import pandas as pd\n",
    "import numpy as np\n",
    "import re"
   ]
  },
  {
   "cell_type": "code",
   "execution_count": 71,
   "metadata": {},
   "outputs": [],
   "source": [
    "# list of all iupacs from sweettalks databse\n",
    "df_all = pd.read_csv('../pipeline/data/combined_database_long.csv').target.values.tolist()"
   ]
  },
  {
   "cell_type": "code",
   "execution_count": 50,
   "metadata": {},
   "outputs": [],
   "source": [
    "# see if all covered from our set of IUPAC's\n",
    "our_glycan_iupacs = pd.read_csv('../pipeline/data/Glycan-Structures-CFG611.txt', sep='\\t').IUPAC.values.tolist()"
   ]
  },
  {
   "cell_type": "code",
   "execution_count": 51,
   "metadata": {},
   "outputs": [
    {
     "name": "stdout",
     "output_type": "stream",
     "text": [
      "len of allset: 13541, len of our set: 611, amount in our set that isnt in all set: 611\n"
     ]
    }
   ],
   "source": [
    "all_set = set(df_all)\n",
    "our_set = set(our_glycan_iupacs)\n",
    "\n",
    "print(f'len of allset: {len(all_set)}, len of our set: {len(our_set)}, amount in our set that isnt in all set: {len(our_set - all_set)}')"
   ]
  },
  {
   "cell_type": "code",
   "execution_count": 52,
   "metadata": {},
   "outputs": [],
   "source": [
    "def convert_iupac(glycans):\n",
    "    converted = []\n",
    "    \n",
    "    for glycan in glycans:\n",
    "       \n",
    "        glycan = glycan.replace('α', 'a').replace('β', 'b')\n",
    "        \n",
    "        # remove number before any os and op\n",
    "        glycan = re.sub(r'(\\D+)\\d+OS', r'\\1OS', glycan)\n",
    "        glycan = re.sub(r'(\\D+)\\d+OP', r'\\1OP', glycan)\n",
    "        \n",
    "        # remove final anomeric state and spacer     str.rsplit('(', 1)[0]\n",
    "        glycan = glycan.rsplit('(', 1)[0]\n",
    "        \n",
    "        converted.append(glycan)\n",
    "    \n",
    "    return converted"
   ]
  },
  {
   "cell_type": "code",
   "execution_count": 76,
   "metadata": {},
   "outputs": [],
   "source": [
    "converted_glycans = convert_iupac(our_glycan_iupacs)"
   ]
  },
  {
   "cell_type": "code",
   "execution_count": 54,
   "metadata": {},
   "outputs": [
    {
     "name": "stdout",
     "output_type": "stream",
     "text": [
      "611\n",
      "len of allset: 13541, len of our set: 523, amount in our set that isnt in all set: 367\n"
     ]
    }
   ],
   "source": [
    "all_set = set(df_all)\n",
    "our_set = set(converted_glycans)\n",
    "\n",
    "print(len(converted_glycans))\n",
    "print(f'len of allset: {len(all_set)}, len of our set: {len(our_set)}, amount in our set that isnt in all set: {len(our_set - all_set)}')"
   ]
  },
  {
   "cell_type": "markdown",
   "metadata": {},
   "source": [
    "# Combine sweettalk dataset with our glycans"
   ]
  },
  {
   "cell_type": "code",
   "execution_count": 82,
   "metadata": {},
   "outputs": [
    {
     "name": "stdout",
     "output_type": "stream",
     "text": [
      "len df all: 21296, len unique df all 13541, len unique our glycans: 523\n",
      "len combined with oiurs 14064\n"
     ]
    }
   ],
   "source": [
    "\n",
    "unique_df_all = list(set(df_all))\n",
    "unique_our_glycans = list(set(converted_glycans))\n",
    "print(f'len df all: {len(df_all)}, len unique df all {len(unique_df_all)}, len unique our glycans: {len(unique_our_glycans)}')\n",
    "combined_with_ours = unique_df_all.copy()\n",
    "combined_with_ours += unique_our_glycans\n",
    "print('len combined with oiurs', len(combined_with_ours))"
   ]
  },
  {
   "cell_type": "code",
   "execution_count": 84,
   "metadata": {},
   "outputs": [],
   "source": [
    "import csv\n",
    "\n",
    "with open('combined_with_ours.csv', mode='w', newline='', encoding='utf-8') as file:\n",
    "    writer = csv.writer(file)\n",
    "    writer.writerow([\"target\"])  # Write the header\n",
    "    for iupac in combined_with_ours:\n",
    "        writer.writerow([iupac])  # Write each IUPAC name as a new row"
   ]
  },
  {
   "cell_type": "code",
   "execution_count": 55,
   "metadata": {},
   "outputs": [],
   "source": [
    "\n",
    "def motif_find(s):\n",
    "  \"\"\"converts a IUPACcondensed-ish glycan into a list of overlapping, asterisk-separated glycowords\"\"\"\n",
    "  b = s.split('(')\n",
    "  b = [k.split(')') for k in b]\n",
    "  b = [item for sublist in b for item in sublist]\n",
    "  b = [k.strip('[') for k in b]\n",
    "  b = [k.strip(']') for k in b]\n",
    "  b = [k.replace('[', '') for k in b]\n",
    "  b = [k.replace(']', '') for k in b]\n",
    "  b = ['*'.join(b[i:i+5]) for i in range(0, len(b)-4, 2)]\n",
    "  return b\n",
    "\n",
    "def process_glycans(glycan_list):\n",
    "  \"\"\"converts list of glycans into a list of lists of glycowords\"\"\"\n",
    "  glycan_motifs = [motif_find(k) for k in glycan_list]\n",
    "  glycan_motifs = [[i.split('*') for i in k] for k in glycan_motifs]\n",
    "  return glycan_motifs"
   ]
  },
  {
   "cell_type": "code",
   "execution_count": 56,
   "metadata": {},
   "outputs": [],
   "source": [
    "df_all = process_glycans(df_all)"
   ]
  },
  {
   "cell_type": "code",
   "execution_count": 57,
   "metadata": {},
   "outputs": [
    {
     "data": {
      "text/plain": [
       "[[['Glc', 'a1-3', 'Glc', 'a1-3', 'Man'],\n",
       "  ['Glc', 'a1-3', 'Man', 'a1-2', 'Man'],\n",
       "  ['Man', 'a1-2', 'Man', 'a1-2', 'Man'],\n",
       "  ['Man', 'a1-2', 'Man', 'a1-3', 'Man'],\n",
       "  ['Man', 'a1-3', 'Man', 'a1-2', 'Man'],\n",
       "  ['Man', 'a1-2', 'Man', 'a1-3', 'Man'],\n",
       "  ['Man', 'a1-3', 'Man', 'a1-2', 'Man'],\n",
       "  ['Man', 'a1-2', 'Man', 'a1-6', 'Man'],\n",
       "  ['Man', 'a1-6', 'Man', 'a1-6', 'Man'],\n",
       "  ['Man', 'a1-6', 'Man', 'b1-4', 'GlcNAc'],\n",
       "  ['Man', 'b1-4', 'GlcNAc', 'b1-4', 'GlcNAc']],\n",
       " [['Gal', 'a1-3', 'Galf', 'a1-3', 'Galf'],\n",
       "  ['Galf', 'a1-3', 'Galf', 'a1-3', 'Man'],\n",
       "  ['Galf', 'a1-3', 'Man', 'a1-3', 'Man'],\n",
       "  ['Man', 'a1-3', 'Man', 'a1-4', 'GlcN']],\n",
       " [['Gal', 'a1-2', 'Man', 'b1-4', 'Rha']],\n",
       " [['Gal', 'b1-4', 'Fuc', 'a1-3', 'GlcNAc'],\n",
       "  ['Fuc', 'a1-3', 'GlcNAc', 'b1-2', 'Man'],\n",
       "  ['GlcNAc', 'b1-2', 'Man', 'a1-3', 'Gal'],\n",
       "  ['Man', 'a1-3', 'Gal', 'b1-4', 'Fuc'],\n",
       "  ['Gal', 'b1-4', 'Fuc', 'a1-3', 'GlcNAc'],\n",
       "  ['Fuc', 'a1-3', 'GlcNAc', 'b1-2', 'Gal'],\n",
       "  ['GlcNAc', 'b1-2', 'Gal', 'b1-4', 'Fuc'],\n",
       "  ['Gal', 'b1-4', 'Fuc', 'a1-3', 'GlcNAc'],\n",
       "  ['Fuc', 'a1-3', 'GlcNAc', 'b1-6', 'Man'],\n",
       "  ['GlcNAc', 'b1-6', 'Man', 'a1-6', 'Man'],\n",
       "  ['Man', 'a1-6', 'Man', 'b1-4', 'GlcNAc'],\n",
       "  ['Man', 'b1-4', 'GlcNAc', 'b1-4', 'GlcNAc']],\n",
       " [['GlcNAc', 'b1-3', 'Gal', 'b1-3', 'NeuNAc'],\n",
       "  ['Gal', 'b1-3', 'NeuNAc', 'a2-6', 'GalNAc']]]"
      ]
     },
     "execution_count": 57,
     "metadata": {},
     "output_type": "execute_result"
    }
   ],
   "source": [
    "df_all[:5]"
   ]
  },
  {
   "cell_type": "code",
   "execution_count": 58,
   "metadata": {},
   "outputs": [
    {
     "data": {
      "text/plain": [
       "[['Glc', 'a1-3', 'Glc', 'a1-3', 'Man'],\n",
       " ['Glc', 'a1-3', 'Man', 'a1-2', 'Man'],\n",
       " ['Man', 'a1-2', 'Man', 'a1-2', 'Man'],\n",
       " ['Man', 'a1-2', 'Man', 'a1-3', 'Man'],\n",
       " ['Man', 'a1-3', 'Man', 'a1-2', 'Man']]"
      ]
     },
     "execution_count": 58,
     "metadata": {},
     "output_type": "execute_result"
    }
   ],
   "source": [
    "df_all = [item for sublist in df_all for item in sublist]\n",
    "df_all[:5]"
   ]
  },
  {
   "cell_type": "code",
   "execution_count": 59,
   "metadata": {},
   "outputs": [],
   "source": [
    "#make library of all observed glycowords\n",
    "lib_all = list(sorted(list(set([item for sublist in df_all for item in sublist]))))\n",
    "lib_size_all = len(lib_all)"
   ]
  },
  {
   "cell_type": "code",
   "execution_count": 60,
   "metadata": {},
   "outputs": [
    {
     "data": {
      "text/plain": [
       "['',\n",
       " '1',\n",
       " '1,4-Anhydro-Gal',\n",
       " '1,4-Anhydro-Kdo',\n",
       " '1-3',\n",
       " '1-4',\n",
       " '1-6',\n",
       " '2,3-Anhydro-All']"
      ]
     },
     "execution_count": 60,
     "metadata": {},
     "output_type": "execute_result"
    }
   ],
   "source": [
    "lib_all[:8]"
   ]
  }
 ],
 "metadata": {
  "kernelspec": {
   "display_name": "test_env",
   "language": "python",
   "name": "python3"
  },
  "language_info": {
   "codemirror_mode": {
    "name": "ipython",
    "version": 3
   },
   "file_extension": ".py",
   "mimetype": "text/x-python",
   "name": "python",
   "nbconvert_exporter": "python",
   "pygments_lexer": "ipython3",
   "version": "3.12.9"
  }
 },
 "nbformat": 4,
 "nbformat_minor": 2
}
