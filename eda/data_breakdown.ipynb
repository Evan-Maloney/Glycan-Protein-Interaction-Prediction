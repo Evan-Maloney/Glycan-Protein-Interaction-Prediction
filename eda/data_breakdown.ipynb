{
 "cells": [
  {
   "cell_type": "code",
   "execution_count": 1,
   "metadata": {},
   "outputs": [],
   "source": [
    "import pandas as pd"
   ]
  },
  {
   "cell_type": "markdown",
   "metadata": {},
   "source": [
    "# Glycan-Structures-CFG611.txt"
   ]
  },
  {
   "cell_type": "code",
   "execution_count": 4,
   "metadata": {},
   "outputs": [
    {
     "name": "stderr",
     "output_type": "stream",
     "text": [
      "/var/folders/lg/qdb8l8gj3csbvxb_svgr1t0c0000gn/T/ipykernel_65673/1076635299.py:1: ParserWarning: Falling back to the 'python' engine because the 'c' engine does not support regex separators (separators > 1 char and different from '\\s+' are interpreted as regex); you can avoid this warning by specifying engine='python'.\n",
      "  glycans = pd.read_csv('../data/Glycan-Structures-CFG611.txt', sep=\"\\s\")#, delimiter=' ')\n"
     ]
    }
   ],
   "source": [
    "glycans = pd.read_csv('../data/Glycan-Structures-CFG611.txt', sep=\"\\s\")"
   ]
  },
  {
   "cell_type": "markdown",
   "metadata": {},
   "source": [
    "Features:\n",
    "\n",
    "1. Name is the GlycanID used in Fractions file\n",
    "\n",
    "2. IUPAC is a naming method for glycans. (Used simply as an easy identifier for humans to identify a glycan (so they dont have to read long SMILES text for example))\n",
    "*Probably wont be used in training as we will use SMILES mainly (but could be used for analysis of results to scientists)\n",
    "\n",
    "3. SMILES (Simplified Molecular Input Line Entry System). ASCII string that represents the chemical structure of our glycan. (Which chemical elements link to each other and where).\n",
    "\n",
    "**SMILES is our bread and butter for representing the glycan. Look into techniques for embedding it to be passed into our prediction model. Examples like: Morgan Fingerprint, Graph Neural net, one hot encoding, etc...**\n",
    "\n",
    "Note: Every single value in this table is unique"
   ]
  },
  {
   "cell_type": "code",
   "execution_count": 5,
   "metadata": {},
   "outputs": [
    {
     "data": {
      "text/html": [
       "<div>\n",
       "<style scoped>\n",
       "    .dataframe tbody tr th:only-of-type {\n",
       "        vertical-align: middle;\n",
       "    }\n",
       "\n",
       "    .dataframe tbody tr th {\n",
       "        vertical-align: top;\n",
       "    }\n",
       "\n",
       "    .dataframe thead th {\n",
       "        text-align: right;\n",
       "    }\n",
       "</style>\n",
       "<table border=\"1\" class=\"dataframe\">\n",
       "  <thead>\n",
       "    <tr style=\"text-align: right;\">\n",
       "      <th></th>\n",
       "      <th>Name</th>\n",
       "      <th>IUPAC</th>\n",
       "      <th>SMILES</th>\n",
       "    </tr>\n",
       "  </thead>\n",
       "  <tbody>\n",
       "    <tr>\n",
       "      <th>0</th>\n",
       "      <td>CFG-007-Sp8</td>\n",
       "      <td>Gal(α-Sp8</td>\n",
       "      <td>OC[C@@H](O1)[C@H](O)[C@H](O)[C@@H](O)[C@H]1-OC...</td>\n",
       "    </tr>\n",
       "    <tr>\n",
       "      <th>1</th>\n",
       "      <td>CFG-008-Sp8</td>\n",
       "      <td>Glc(α-Sp8</td>\n",
       "      <td>OC[C@@H](O1)[C@@H](O)[C@H](O)[C@@H](O)[C@H]1-O...</td>\n",
       "    </tr>\n",
       "    <tr>\n",
       "      <th>2</th>\n",
       "      <td>CFG-009-Sp8</td>\n",
       "      <td>Man(α-Sp8</td>\n",
       "      <td>OC[C@@H](O1)[C@@H](O)[C@H](O)[C@H](O)[C@H]1-OC...</td>\n",
       "    </tr>\n",
       "    <tr>\n",
       "      <th>3</th>\n",
       "      <td>CFG-010-Sp8</td>\n",
       "      <td>GalNAc(α-Sp8</td>\n",
       "      <td>OC[C@@H](O1)[C@H](O)[C@H](O)[C@@H](NC(=O)C)[C@...</td>\n",
       "    </tr>\n",
       "    <tr>\n",
       "      <th>4</th>\n",
       "      <td>CFG-010-Sp15</td>\n",
       "      <td>GalNAc(α-Sp15</td>\n",
       "      <td>OC[C@@H](O1)[C@H](O)[C@H](O)[C@@H](NC(=O)C)[C@...</td>\n",
       "    </tr>\n",
       "  </tbody>\n",
       "</table>\n",
       "</div>"
      ],
      "text/plain": [
       "           Name          IUPAC  \\\n",
       "0   CFG-007-Sp8      Gal(α-Sp8   \n",
       "1   CFG-008-Sp8      Glc(α-Sp8   \n",
       "2   CFG-009-Sp8      Man(α-Sp8   \n",
       "3   CFG-010-Sp8   GalNAc(α-Sp8   \n",
       "4  CFG-010-Sp15  GalNAc(α-Sp15   \n",
       "\n",
       "                                              SMILES  \n",
       "0  OC[C@@H](O1)[C@H](O)[C@H](O)[C@@H](O)[C@H]1-OC...  \n",
       "1  OC[C@@H](O1)[C@@H](O)[C@H](O)[C@@H](O)[C@H]1-O...  \n",
       "2  OC[C@@H](O1)[C@@H](O)[C@H](O)[C@H](O)[C@H]1-OC...  \n",
       "3  OC[C@@H](O1)[C@H](O)[C@H](O)[C@@H](NC(=O)C)[C@...  \n",
       "4  OC[C@@H](O1)[C@H](O)[C@H](O)[C@@H](NC(=O)C)[C@...  "
      ]
     },
     "execution_count": 5,
     "metadata": {},
     "output_type": "execute_result"
    }
   ],
   "source": [
    "glycans.head()"
   ]
  },
  {
   "cell_type": "markdown",
   "metadata": {},
   "source": [
    "# Protein-Sequence-Table.txt"
   ]
  },
  {
   "cell_type": "markdown",
   "metadata": {},
   "source": [
    "Features:\n",
    "\n",
    "1. ProteinGroup - ID for the ProteinGroup and used in Fractions-Bound-Table\n",
    "\n",
    "2. Accession - Unique ID for a protein in the Uniprot database. \"An accession number (AC) is assigned to each sequence upon inclusion into UniProtKB.\" Reference of quote: https://www.uniprot.org/help/difference_accession_entryname\n",
    "\n",
    "\n",
    "3. Uniprot - ID for a protein stored at a Globally accesible database called Uniprot. See this vid for more info: https://youtu.be/GusiW6YUpr0, https://www.uniprot.org/\n",
    "\n",
    "4. Description - Describes the function of a protein in scientific terms. Ex: \"Fucose-specific lectin\" refers to a lectin (a type of protein) that specifically binds to the carbohydrate fucose.\n",
    "(Could maybe encode the words as a feature)\n",
    "\n",
    "5. Amino Acid Sequence - The sequence of amino acids making up the protein. Main component used to understand proteins strucutre and its binding points. Could embed with things like ESM3, transformer, one-hot encoding, etc..\n",
    "\n",
    "Note: Every single value in this table is unique"
   ]
  },
  {
   "cell_type": "markdown",
   "metadata": {},
   "source": [
    "cant split on space here as description value has spaces so seperate description and Amino Acid Sequence on the last space in the row.\n"
   ]
  },
  {
   "cell_type": "code",
   "execution_count": 13,
   "metadata": {},
   "outputs": [],
   "source": [
    "rows = []\n",
    "with open('../data/Protein-Sequence-Table.txt', 'r') as file:\n",
    "    next(file) # skip header line\n",
    "    for line in file:\n",
    "        parts = line.split()\n",
    "        \n",
    "        protein_group = parts[0]\n",
    "        accession = parts[1]\n",
    "        uniprot = parts[2]\n",
    "        description_and_sequence = ' '.join(parts[3:]) \n",
    "        \n",
    "        # split on last space then assign description to before split and amino acid after the split\n",
    "        split_index = description_and_sequence.rfind(' ')\n",
    "        description = description_and_sequence[:split_index].strip()\n",
    "        amino_acid_sequence = description_and_sequence[split_index + 1:].strip()\n",
    "        \n",
    "        \n",
    "        rows.append([protein_group, accession, uniprot, description, amino_acid_sequence])\n",
    "\n",
    "\n",
    "proteins = pd.DataFrame(rows, columns=['ProteinGroup', 'Accession', 'Uniprot', 'Description', 'Amino Acid Sequence'])"
   ]
  },
  {
   "cell_type": "code",
   "execution_count": 14,
   "metadata": {},
   "outputs": [
    {
     "data": {
      "text/html": [
       "<div>\n",
       "<style scoped>\n",
       "    .dataframe tbody tr th:only-of-type {\n",
       "        vertical-align: middle;\n",
       "    }\n",
       "\n",
       "    .dataframe tbody tr th {\n",
       "        vertical-align: top;\n",
       "    }\n",
       "\n",
       "    .dataframe thead th {\n",
       "        text-align: right;\n",
       "    }\n",
       "</style>\n",
       "<table border=\"1\" class=\"dataframe\">\n",
       "  <thead>\n",
       "    <tr style=\"text-align: right;\">\n",
       "      <th></th>\n",
       "      <th>ProteinGroup</th>\n",
       "      <th>Accession</th>\n",
       "      <th>Uniprot</th>\n",
       "      <th>Description</th>\n",
       "      <th>Amino Acid Sequence</th>\n",
       "    </tr>\n",
       "  </thead>\n",
       "  <tbody>\n",
       "    <tr>\n",
       "      <th>0</th>\n",
       "      <td>1</td>\n",
       "      <td>Q41358</td>\n",
       "      <td>SNAIB_SAMNI</td>\n",
       "      <td>Ribosome-inactivating protein SNAI</td>\n",
       "      <td>MRLVAKLLYLAVLAICGLGIHGALTHPRVTPPVYPSVSFNLTGADT...</td>\n",
       "    </tr>\n",
       "    <tr>\n",
       "      <th>1</th>\n",
       "      <td>2</td>\n",
       "      <td>P22972</td>\n",
       "      <td>LEC1_ULEEU</td>\n",
       "      <td>Anti-H(O) lectin 1</td>\n",
       "      <td>SDDLSFKFKNFSQNGKDLSFQGDASVIETGVLQLNKVGNNLPDETG...</td>\n",
       "    </tr>\n",
       "    <tr>\n",
       "      <th>2</th>\n",
       "      <td>4</td>\n",
       "      <td>A8WDZ4</td>\n",
       "      <td>A8WDZ4_CANEN</td>\n",
       "      <td>Concanavalin A</td>\n",
       "      <td>MAISKKSSLFLPIFTFITMFLMVVNKVSSSTHETNALHFMFNQFSK...</td>\n",
       "    </tr>\n",
       "    <tr>\n",
       "      <th>3</th>\n",
       "      <td>6</td>\n",
       "      <td>P09382</td>\n",
       "      <td>LEG1_HUMAN</td>\n",
       "      <td>Galectin-1</td>\n",
       "      <td>MACGLVASNLNLKPGECLRVRGEVAPDAKSFVLNLGKDSNNLCLHF...</td>\n",
       "    </tr>\n",
       "    <tr>\n",
       "      <th>4</th>\n",
       "      <td>7</td>\n",
       "      <td>P16045</td>\n",
       "      <td>LEG1_MOUSE</td>\n",
       "      <td>Galectin-1</td>\n",
       "      <td>MACGLVASNLNLKPGECLKVRGEVASDAKSFVLNLGKDSNNLCLHF...</td>\n",
       "    </tr>\n",
       "  </tbody>\n",
       "</table>\n",
       "</div>"
      ],
      "text/plain": [
       "  ProteinGroup Accession       Uniprot                         Description  \\\n",
       "0            1    Q41358   SNAIB_SAMNI  Ribosome-inactivating protein SNAI   \n",
       "1            2    P22972    LEC1_ULEEU                  Anti-H(O) lectin 1   \n",
       "2            4    A8WDZ4  A8WDZ4_CANEN                      Concanavalin A   \n",
       "3            6    P09382    LEG1_HUMAN                          Galectin-1   \n",
       "4            7    P16045    LEG1_MOUSE                          Galectin-1   \n",
       "\n",
       "                                 Amino Acid Sequence  \n",
       "0  MRLVAKLLYLAVLAICGLGIHGALTHPRVTPPVYPSVSFNLTGADT...  \n",
       "1  SDDLSFKFKNFSQNGKDLSFQGDASVIETGVLQLNKVGNNLPDETG...  \n",
       "2  MAISKKSSLFLPIFTFITMFLMVVNKVSSSTHETNALHFMFNQFSK...  \n",
       "3  MACGLVASNLNLKPGECLRVRGEVAPDAKSFVLNLGKDSNNLCLHF...  \n",
       "4  MACGLVASNLNLKPGECLKVRGEVASDAKSFVLNLGKDSNNLCLHF...  "
      ]
     },
     "execution_count": 14,
     "metadata": {},
     "output_type": "execute_result"
    }
   ],
   "source": [
    "proteins.head()"
   ]
  },
  {
   "cell_type": "markdown",
   "metadata": {},
   "source": [
    "# Fractions-Bound-Table.txt"
   ]
  },
  {
   "cell_type": "markdown",
   "metadata": {},
   "source": [
    "Features:\n",
    "\n",
    "1. ObjId - some kind of object ID\n",
    "\n",
    "2. ProteinGroup - ProteinGroup feature from protein sequences table\n",
    "\n",
    "3. Concentration - The concentration of the glycan used in the sample that got us the f (strength) reading. Important as it tells us how much of the glycan gives off how much of an f value from its reaction.\n",
    "\n",
    "4. GlycanID - The GlycanID used in the Glycan Structures table\n",
    "\n",
    "5. f - the strength relationship reading (or the luminosity reaction as stated in slides/demo).\n",
    "\n",
    "**We are predicting f**"
   ]
  },
  {
   "cell_type": "code",
   "execution_count": 20,
   "metadata": {},
   "outputs": [
    {
     "name": "stderr",
     "output_type": "stream",
     "text": [
      "/var/folders/lg/qdb8l8gj3csbvxb_svgr1t0c0000gn/T/ipykernel_65673/1103406084.py:1: ParserWarning: Falling back to the 'python' engine because the 'c' engine does not support regex separators (separators > 1 char and different from '\\s+' are interpreted as regex); you can avoid this warning by specifying engine='python'.\n",
      "  fractions = pd.read_csv('../data/Fractions-Bound-Table.txt', sep=\"\\s\")\n"
     ]
    }
   ],
   "source": [
    "fractions = pd.read_csv('../data/Fractions-Bound-Table.txt', sep=\"\\s\")"
   ]
  },
  {
   "cell_type": "code",
   "execution_count": 21,
   "metadata": {},
   "outputs": [
    {
     "data": {
      "text/html": [
       "<div>\n",
       "<style scoped>\n",
       "    .dataframe tbody tr th:only-of-type {\n",
       "        vertical-align: middle;\n",
       "    }\n",
       "\n",
       "    .dataframe tbody tr th {\n",
       "        vertical-align: top;\n",
       "    }\n",
       "\n",
       "    .dataframe thead th {\n",
       "        text-align: right;\n",
       "    }\n",
       "</style>\n",
       "<table border=\"1\" class=\"dataframe\">\n",
       "  <thead>\n",
       "    <tr style=\"text-align: right;\">\n",
       "      <th></th>\n",
       "      <th>ObjId</th>\n",
       "      <th>ProteinGroup</th>\n",
       "      <th>Concentration</th>\n",
       "      <th>GlycanID</th>\n",
       "      <th>f</th>\n",
       "    </tr>\n",
       "  </thead>\n",
       "  <tbody>\n",
       "    <tr>\n",
       "      <th>0</th>\n",
       "      <td>1004699</td>\n",
       "      <td>1</td>\n",
       "      <td>0.001</td>\n",
       "      <td>CFG-007-Sp8</td>\n",
       "      <td>0.000000</td>\n",
       "    </tr>\n",
       "    <tr>\n",
       "      <th>1</th>\n",
       "      <td>1004699</td>\n",
       "      <td>1</td>\n",
       "      <td>0.001</td>\n",
       "      <td>CFG-008-Sp8</td>\n",
       "      <td>0.000154</td>\n",
       "    </tr>\n",
       "    <tr>\n",
       "      <th>2</th>\n",
       "      <td>1004699</td>\n",
       "      <td>1</td>\n",
       "      <td>0.001</td>\n",
       "      <td>CFG-009-Sp8</td>\n",
       "      <td>0.000082</td>\n",
       "    </tr>\n",
       "    <tr>\n",
       "      <th>3</th>\n",
       "      <td>1004699</td>\n",
       "      <td>1</td>\n",
       "      <td>0.001</td>\n",
       "      <td>CFG-010-Sp15</td>\n",
       "      <td>0.000290</td>\n",
       "    </tr>\n",
       "    <tr>\n",
       "      <th>4</th>\n",
       "      <td>1004699</td>\n",
       "      <td>1</td>\n",
       "      <td>0.001</td>\n",
       "      <td>CFG-010-Sp8</td>\n",
       "      <td>0.000000</td>\n",
       "    </tr>\n",
       "  </tbody>\n",
       "</table>\n",
       "</div>"
      ],
      "text/plain": [
       "     ObjId  ProteinGroup  Concentration      GlycanID         f\n",
       "0  1004699             1          0.001   CFG-007-Sp8  0.000000\n",
       "1  1004699             1          0.001   CFG-008-Sp8  0.000154\n",
       "2  1004699             1          0.001   CFG-009-Sp8  0.000082\n",
       "3  1004699             1          0.001  CFG-010-Sp15  0.000290\n",
       "4  1004699             1          0.001   CFG-010-Sp8  0.000000"
      ]
     },
     "execution_count": 21,
     "metadata": {},
     "output_type": "execute_result"
    }
   ],
   "source": [
    "fractions.head()"
   ]
  },
  {
   "cell_type": "code",
   "execution_count": 23,
   "metadata": {},
   "outputs": [
    {
     "data": {
      "text/html": [
       "<div>\n",
       "<style scoped>\n",
       "    .dataframe tbody tr th:only-of-type {\n",
       "        vertical-align: middle;\n",
       "    }\n",
       "\n",
       "    .dataframe tbody tr th {\n",
       "        vertical-align: top;\n",
       "    }\n",
       "\n",
       "    .dataframe thead th {\n",
       "        text-align: right;\n",
       "    }\n",
       "</style>\n",
       "<table border=\"1\" class=\"dataframe\">\n",
       "  <thead>\n",
       "    <tr style=\"text-align: right;\">\n",
       "      <th></th>\n",
       "      <th>ObjId</th>\n",
       "      <th>ProteinGroup</th>\n",
       "      <th>Concentration</th>\n",
       "      <th>f</th>\n",
       "    </tr>\n",
       "  </thead>\n",
       "  <tbody>\n",
       "    <tr>\n",
       "      <th>count</th>\n",
       "      <td>3.346790e+05</td>\n",
       "      <td>334679.000000</td>\n",
       "      <td>334679.000000</td>\n",
       "      <td>3.346790e+05</td>\n",
       "    </tr>\n",
       "    <tr>\n",
       "      <th>mean</th>\n",
       "      <td>1.004931e+06</td>\n",
       "      <td>66.253589</td>\n",
       "      <td>37.540266</td>\n",
       "      <td>1.338208e-02</td>\n",
       "    </tr>\n",
       "    <tr>\n",
       "      <th>std</th>\n",
       "      <td>6.327957e+02</td>\n",
       "      <td>42.799381</td>\n",
       "      <td>67.169264</td>\n",
       "      <td>7.008441e-02</td>\n",
       "    </tr>\n",
       "    <tr>\n",
       "      <th>min</th>\n",
       "      <td>1.003786e+06</td>\n",
       "      <td>1.000000</td>\n",
       "      <td>0.001000</td>\n",
       "      <td>0.000000e+00</td>\n",
       "    </tr>\n",
       "    <tr>\n",
       "      <th>25%</th>\n",
       "      <td>1.004512e+06</td>\n",
       "      <td>29.000000</td>\n",
       "      <td>1.000000</td>\n",
       "      <td>0.000000e+00</td>\n",
       "    </tr>\n",
       "    <tr>\n",
       "      <th>50%</th>\n",
       "      <td>1.004714e+06</td>\n",
       "      <td>63.000000</td>\n",
       "      <td>5.000000</td>\n",
       "      <td>5.260004e-07</td>\n",
       "    </tr>\n",
       "    <tr>\n",
       "      <th>75%</th>\n",
       "      <td>1.005506e+06</td>\n",
       "      <td>102.000000</td>\n",
       "      <td>30.000000</td>\n",
       "      <td>2.794406e-04</td>\n",
       "    </tr>\n",
       "    <tr>\n",
       "      <th>max</th>\n",
       "      <td>1.006422e+06</td>\n",
       "      <td>147.000000</td>\n",
       "      <td>500.000000</td>\n",
       "      <td>9.246077e-01</td>\n",
       "    </tr>\n",
       "  </tbody>\n",
       "</table>\n",
       "</div>"
      ],
      "text/plain": [
       "              ObjId   ProteinGroup  Concentration             f\n",
       "count  3.346790e+05  334679.000000  334679.000000  3.346790e+05\n",
       "mean   1.004931e+06      66.253589      37.540266  1.338208e-02\n",
       "std    6.327957e+02      42.799381      67.169264  7.008441e-02\n",
       "min    1.003786e+06       1.000000       0.001000  0.000000e+00\n",
       "25%    1.004512e+06      29.000000       1.000000  0.000000e+00\n",
       "50%    1.004714e+06      63.000000       5.000000  5.260004e-07\n",
       "75%    1.005506e+06     102.000000      30.000000  2.794406e-04\n",
       "max    1.006422e+06     147.000000     500.000000  9.246077e-01"
      ]
     },
     "execution_count": 23,
     "metadata": {},
     "output_type": "execute_result"
    }
   ],
   "source": [
    "fractions.describe()"
   ]
  },
  {
   "cell_type": "code",
   "execution_count": 25,
   "metadata": {},
   "outputs": [
    {
     "data": {
      "text/plain": [
       "ObjId               548\n",
       "ProteinGroup        147\n",
       "Concentration        23\n",
       "GlycanID            611\n",
       "f                167464\n",
       "dtype: int64"
      ]
     },
     "execution_count": 25,
     "metadata": {},
     "output_type": "execute_result"
    }
   ],
   "source": [
    "fractions.nunique()"
   ]
  }
 ],
 "metadata": {
  "kernelspec": {
   "display_name": "Python 3",
   "language": "python",
   "name": "python3"
  },
  "language_info": {
   "codemirror_mode": {
    "name": "ipython",
    "version": 3
   },
   "file_extension": ".py",
   "mimetype": "text/x-python",
   "name": "python",
   "nbconvert_exporter": "python",
   "pygments_lexer": "ipython3",
   "version": "3.11.5"
  }
 },
 "nbformat": 4,
 "nbformat_minor": 2
}
